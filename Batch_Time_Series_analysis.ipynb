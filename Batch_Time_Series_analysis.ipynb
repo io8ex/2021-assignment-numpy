{
  "nbformat": 4,
  "nbformat_minor": 0,
  "metadata": {
    "colab": {
      "name": "Batch_Time_Series_analysis.ipynb",
      "provenance": [],
      "collapsed_sections": [],
      "authorship_tag": "ABX9TyMbn0TCLEuWW169K0P0fXAu",
      "include_colab_link": true
    },
    "kernelspec": {
      "name": "python3",
      "display_name": "Python 3"
    },
    "language_info": {
      "name": "python"
    }
  },
  "cells": [
    {
      "cell_type": "markdown",
      "metadata": {
        "id": "view-in-github",
        "colab_type": "text"
      },
      "source": [
        "<a href=\"https://colab.research.google.com/github/io8ex/2021-assignment-numpy/blob/main/Batch_Time_Series_analysis.ipynb\" target=\"_parent\"><img src=\"https://colab.research.google.com/assets/colab-badge.svg\" alt=\"Open In Colab\"/></a>"
      ]
    },
    {
      "cell_type": "code",
      "source": [
        "import numpy as np\n",
        "\n",
        "from statsmodels.tsa.arima_model import ARIMA\n",
        "from tqdm import tqdm"
      ],
      "metadata": {
        "id": "T0s3QJjEUmal"
      },
      "execution_count": 1,
      "outputs": []
    },
    {
      "cell_type": "code",
      "execution_count": 2,
      "metadata": {
        "id": "CBXtTQZoUU0L"
      },
      "outputs": [],
      "source": [
        "import numpy as np\n",
        "\n",
        "\n",
        "# create dataset\n",
        "def create_dataset(X : np.array, n_samples : int, mode : str='direct'):\n",
        "    \"\"\"\n",
        "    Function takes time-series X as an input and provides time-series Xo and \n",
        "    the test data yo for output.\n",
        "    ----------------------------------\n",
        "    n_samples : int, number of samples\n",
        "    mode : string,\n",
        "    - 'direct': X0 are the generated batches, yo is x[t+1]\n",
        "    - 'log': X0 - outputs the log-returns of the data, yo is the next log-return.\n",
        "    ----------------------------------\n",
        "    X0: np.array, shape: (len(X) - n_samples - 1, n_samples)\n",
        "    y0: np.array, shape: len(X) - n_samples - 1\n",
        "    \"\"\"\n",
        "    if mode == 'direct':\n",
        "        X0 = np.zeros((len(X) - n_samples - 1, n_samples))\n",
        "        y0 = np.zeros(len(X) - n_samples - 1)\n",
        "        for i in range(len(X) - n_samples - 1):\n",
        "            X0[i] = X[i : i + n_samples]\n",
        "            y0[i] = X[i + n_samples + 1]\n",
        "    elif mode == 'log':\n",
        "        X0 = np.zeros((len(X) - n_samples - 2, n_samples))\n",
        "        y0 = np.zeros(len(X) - n_samples - 2)\n",
        "        X_return = np.log(X[1:] / X[:-1])\n",
        "        for i in range(len(X) - n_samples - 2):\n",
        "            X0[i] = X_return[i:i + n_samples]\n",
        "            y0[i] = X_return[i + n_samples + 1]\n",
        "    else:\n",
        "        raise(NotImplementedError(\"Unknown method\"))\n",
        "\n",
        "    return X0, y0"
      ]
    },
    {
      "cell_type": "code",
      "source": [
        "# generate test data\n",
        "n = 100\n",
        "X = 1 + np.random.rand(n)\n",
        "X_return = np.log(X[1:] / X[:-1])\n",
        "X_return[0: 50]\n",
        "\n",
        "# Xo, yo = create_dataset(X, 50, mode='lq')\n",
        "# for x, y in zip(xo, yo):\n",
        "#   print(x, y)\n",
        "#   break"
      ],
      "metadata": {
        "colab": {
          "base_uri": "https://localhost:8080/"
        },
        "id": "C0nLlutAYC02",
        "outputId": "1fb78a1f-5286-43cd-ec4a-0baa53284196"
      },
      "execution_count": 3,
      "outputs": [
        {
          "output_type": "execute_result",
          "data": {
            "text/plain": [
              "array([ 0.00612052,  0.32194411,  0.2685502 ,  0.01771698, -0.56836038,\n",
              "        0.24054234, -0.16599807,  0.37073191, -0.13286607, -0.01147125,\n",
              "        0.1947951 , -0.3402079 ,  0.33199339, -0.04838027, -0.21562229,\n",
              "        0.35100725, -0.52982053,  0.54314776, -0.36868216,  0.32867029,\n",
              "        0.03033115, -0.25374327, -0.09256205, -0.12641262,  0.21353369,\n",
              "       -0.06772437,  0.21225586, -0.18664178, -0.15377631,  0.39636445,\n",
              "       -0.18282698,  0.13716919, -0.27985371,  0.10052975, -0.07153252,\n",
              "        0.33183758, -0.10027653, -0.17621197,  0.17248626, -0.41484036,\n",
              "        0.22070072, -0.28637871,  0.47758372,  0.10388404, -0.19666094,\n",
              "        0.1345593 , -0.07077073,  0.01089661, -0.30977792,  0.42466598])"
            ]
          },
          "metadata": {},
          "execution_count": 3
        }
      ]
    },
    {
      "cell_type": "code",
      "source": [
        "!pip install statsmodels==0.13"
      ],
      "metadata": {
        "colab": {
          "base_uri": "https://localhost:8080/"
        },
        "id": "808H1B3oLRBB",
        "outputId": "db426b13-247d-445a-96fe-7a4af648b6ab"
      },
      "execution_count": 4,
      "outputs": [
        {
          "output_type": "stream",
          "name": "stdout",
          "text": [
            "Requirement already satisfied: statsmodels==0.13 in /usr/local/lib/python3.7/dist-packages (0.13.0)\n",
            "Requirement already satisfied: patsy>=0.5.2 in /usr/local/lib/python3.7/dist-packages (from statsmodels==0.13) (0.5.2)\n",
            "Requirement already satisfied: scipy>=1.3 in /usr/local/lib/python3.7/dist-packages (from statsmodels==0.13) (1.4.1)\n",
            "Requirement already satisfied: numpy>=1.17 in /usr/local/lib/python3.7/dist-packages (from statsmodels==0.13) (1.21.5)\n",
            "Requirement already satisfied: pandas>=0.25 in /usr/local/lib/python3.7/dist-packages (from statsmodels==0.13) (1.3.5)\n",
            "Requirement already satisfied: python-dateutil>=2.7.3 in /usr/local/lib/python3.7/dist-packages (from pandas>=0.25->statsmodels==0.13) (2.8.2)\n",
            "Requirement already satisfied: pytz>=2017.3 in /usr/local/lib/python3.7/dist-packages (from pandas>=0.25->statsmodels==0.13) (2018.9)\n",
            "Requirement already satisfied: six in /usr/local/lib/python3.7/dist-packages (from patsy>=0.5.2->statsmodels==0.13) (1.15.0)\n"
          ]
        }
      ]
    },
    {
      "cell_type": "code",
      "source": [
        "import numpy as np\n",
        "import pmdarima as pm\n",
        "\n",
        "from pmdarima.arima import ndiffs\n",
        "from statsmodels.tsa.arima.model import ARIMA\n",
        "from tqdm import tqdm\n",
        "\n",
        "class ARIMA_model():\n",
        "    def __init__(self, p=None, q=None, r=None, auto=False):\n",
        "        \"\"\"\n",
        "        p, q, r: params of ARIMA model,\n",
        "        see https://www.statsmodels.org/devel/generated/statsmodels.tsa.arima.model.ARIMA.html\n",
        "        \"\"\"\n",
        "        self.auto = auto\n",
        "        self.p = p\n",
        "        self.q = q\n",
        "        self.r = r\n",
        "    \n",
        "    def fit_predict(self, X, y):\n",
        "        y_pred = np.zeros_like(y)\n",
        "\n",
        "        if self.auto:\n",
        "            for i in tqdm(range(len(X))):\n",
        "                ts = X[i]\n",
        "                model = pm.arima.auto_arima(\n",
        "                    ts, d=0, max_p=10, max_d=5, \n",
        "                    max_q=10, trace=True, error_action='ignore', \n",
        "                    suppress_warnings=True\n",
        "                )\n",
        "                model_fit = model.fit(ts)\n",
        "                y_pred[i] = model_fit.predict(n_periods=1)[0]\n",
        "            return y_pred\n",
        "        \n",
        "        for i in tqdm(range(len(X))):\n",
        "            ts = X[i]\n",
        "            model = ARIMA(ts, order=(self.p, self.q, self.r))\n",
        "            model_fit = model.fit()\n",
        "            y_pred[i] = model_fit.forecast()[0]\n",
        "        return y_pred\n",
        "\n",
        "from sklearn.metrics import mean_squared_error as MSE\n",
        "\n",
        "n_samples = 70\n",
        "p, q, r = 6, 0, 0\n",
        "\n",
        "model = ARIMA_model(p, q, r)\n",
        "X_train, y_train = create_dataset(X, n_samples)\n",
        "y_pred = model.fit_predict(X_train, y_train)\n",
        "print()\n",
        "print(\"MSE: %.5f\" %MSE(y_train, y_pred))"
      ],
      "metadata": {
        "colab": {
          "base_uri": "https://localhost:8080/"
        },
        "id": "U2SU8W_SVwI_",
        "outputId": "50b6feb0-3b2e-4a80-8ee7-61a956d0509f"
      },
      "execution_count": 119,
      "outputs": [
        {
          "output_type": "stream",
          "name": "stderr",
          "text": [
            "100%|██████████| 29/29 [00:04<00:00,  6.35it/s]"
          ]
        },
        {
          "output_type": "stream",
          "name": "stdout",
          "text": [
            "\n",
            "MSE: 0.38167\n"
          ]
        },
        {
          "output_type": "stream",
          "name": "stderr",
          "text": [
            "\n"
          ]
        }
      ]
    },
    {
      "cell_type": "code",
      "source": [
        "y_pred"
      ],
      "metadata": {
        "colab": {
          "base_uri": "https://localhost:8080/"
        },
        "id": "tZ3UXk6bYc4T",
        "outputId": "2398326f-2cba-4e36-ab5a-93c5f839423b"
      },
      "execution_count": 110,
      "outputs": [
        {
          "output_type": "execute_result",
          "data": {
            "text/plain": [
              "array([ 0.79501227,  1.45922177,  0.55845862,  0.45736232,  0.87639513,\n",
              "        0.5563469 ,  0.94339388,  1.10440104,  0.41989757,  0.61777606,\n",
              "        0.42770182,  0.45051689,  0.96635598,  2.00212564,  1.23665502,\n",
              "        0.37679349,  0.97205809,  0.23288002,  0.70335965,  1.59012535,\n",
              "       -0.01889175,  1.25232171,  0.61057343,  0.80078336,  0.82414856,\n",
              "        0.42646696,  0.58157215,  0.59803697])"
            ]
          },
          "metadata": {},
          "execution_count": 110
        }
      ]
    },
    {
      "cell_type": "code",
      "source": [
        "y_train"
      ],
      "metadata": {
        "colab": {
          "base_uri": "https://localhost:8080/"
        },
        "id": "YBXRRJnZb1Mu",
        "outputId": "cf6214b4-559c-4407-e7a7-ad2b8af3bf65"
      },
      "execution_count": 118,
      "outputs": [
        {
          "output_type": "execute_result",
          "data": {
            "text/plain": [
              "array([ 9.47712104e-01, -1.94868472e-03, -5.49291144e-01,  2.95788181e-01,\n",
              "       -3.00851061e+00,  3.01101367e+00, -1.61216653e-01,  2.08039543e-01,\n",
              "        9.74777043e-02,  4.01105217e-02,  1.08501968e+00, -1.54992138e+00,\n",
              "        5.28066250e-02, -1.78888630e-01,  5.28413806e-01,  1.70267569e-01,\n",
              "       -4.56054759e-01, -1.31177658e+00,  6.51911826e-01,  9.20664627e-01,\n",
              "       -9.34074070e-01, -6.36330228e-01,  1.82750716e+00, -3.90802476e-03,\n",
              "       -3.11592703e-01,  3.92129161e-01, -4.96976780e-01,  3.01857597e-01])"
            ]
          },
          "metadata": {},
          "execution_count": 118
        }
      ]
    },
    {
      "cell_type": "code",
      "source": [
        "y_train"
      ],
      "metadata": {
        "colab": {
          "base_uri": "https://localhost:8080/"
        },
        "id": "YXVwzeqbYJCj",
        "outputId": "7a46c6b2-125d-4037-d4b5-229e332af885"
      },
      "execution_count": 111,
      "outputs": [
        {
          "output_type": "execute_result",
          "data": {
            "text/plain": [
              "array([ 0.9477121 , -0.00194868, -0.54929114,  0.29578818,         nan,\n",
              "               nan, -0.16121665,  0.20803954,  0.0974777 ,  0.04011052,\n",
              "               nan, -1.54992138,         nan, -0.17888863,  0.52841381,\n",
              "        0.17026757, -0.45605476, -1.31177658,  0.65191183,  0.92066463,\n",
              "       -0.93407407,         nan,         nan, -0.00390802, -0.3115927 ,\n",
              "        0.39212916, -0.49697678,  0.3018576 ])"
            ]
          },
          "metadata": {},
          "execution_count": 111
        }
      ]
    },
    {
      "cell_type": "code",
      "source": [
        "y_train"
      ],
      "metadata": {
        "colab": {
          "base_uri": "https://localhost:8080/"
        },
        "id": "KrT8V3spYKBw",
        "outputId": "44d099b7-9b86-411c-81d3-c44789de7cca"
      },
      "execution_count": 98,
      "outputs": [
        {
          "output_type": "execute_result",
          "data": {
            "text/plain": [
              "array([ 0.46635871,  1.20311247,  1.20077026,  0.69327543,  0.93189072,\n",
              "       -0.04600292,  0.93422621,  0.79512708,  0.97900965,  1.07924737,\n",
              "        1.12341645, -3.3247488 , -0.70572668,  0.74399525,  0.6221281 ,\n",
              "        1.05527832,  1.25116124,  0.79295989,  0.21357671,  0.40989781,\n",
              "        1.02923646,  0.404438  , -0.21404113,  1.3309861 ,  1.32579472,\n",
              "        0.97085259,  1.43698695,  0.8742156 ,  1.18226175])"
            ]
          },
          "metadata": {},
          "execution_count": 98
        }
      ]
    },
    {
      "cell_type": "code",
      "source": [
        "ts = X[:70]\n",
        "model = pm.arima.auto_arima(\n",
        "    X[:40], d=2, max_p=10, max_d=5, max_q=10\n",
        ")\n",
        "model.fit(X[:40])\n",
        "model.predict(n_periods=1)"
      ],
      "metadata": {
        "colab": {
          "base_uri": "https://localhost:8080/"
        },
        "id": "pFBmRt9IRB31",
        "outputId": "4fd5340f-f803-412a-8c8d-82bf3f5e25c2"
      },
      "execution_count": 95,
      "outputs": [
        {
          "output_type": "execute_result",
          "data": {
            "text/plain": [
              "array([0.47006628, 0.48765545, 0.48000763, 0.49403317, 0.53989618,\n",
              "       0.54850321, 0.61495003, 0.52754327, 0.52336233, 0.51844106,\n",
              "       0.52778338, 0.53267596, 0.53275089, 0.47129921, 0.44977015,\n",
              "       0.45041803, 0.45041088, 0.46117629, 0.47803904, 0.51207618,\n",
              "       0.42943089, 0.4759866 , 0.57982496, 0.45469142, 0.35775524,\n",
              "       0.49614681, 0.61639365, 0.51314345, 0.57707593])"
            ]
          },
          "metadata": {},
          "execution_count": 95
        }
      ]
    },
    {
      "cell_type": "code",
      "source": [
        "i = 50\n",
        "ts = X[:i]\n",
        "model = ARIMA(ts, order=(p,q,r))\n",
        "model_fit = model.fit()\n",
        "print(model_fit.forecast())\n",
        "y_pred[i] = model_fit.forecast()[0]"
      ],
      "metadata": {
        "colab": {
          "base_uri": "https://localhost:8080/",
          "height": 215
        },
        "id": "8WNz_xOSWZp7",
        "outputId": "1fbf8966-cb8a-4bf4-96ef-33d87b9fe834"
      },
      "execution_count": 82,
      "outputs": [
        {
          "output_type": "stream",
          "name": "stdout",
          "text": [
            "[0.51397188]\n"
          ]
        },
        {
          "output_type": "error",
          "ename": "NameError",
          "evalue": "ignored",
          "traceback": [
            "\u001b[0;31m---------------------------------------------------------------------------\u001b[0m",
            "\u001b[0;31mNameError\u001b[0m                                 Traceback (most recent call last)",
            "\u001b[0;32m<ipython-input-82-c2d71960b731>\u001b[0m in \u001b[0;36m<module>\u001b[0;34m()\u001b[0m\n\u001b[1;32m      4\u001b[0m \u001b[0mmodel_fit\u001b[0m \u001b[0;34m=\u001b[0m \u001b[0mmodel\u001b[0m\u001b[0;34m.\u001b[0m\u001b[0mfit\u001b[0m\u001b[0;34m(\u001b[0m\u001b[0;34m)\u001b[0m\u001b[0;34m\u001b[0m\u001b[0;34m\u001b[0m\u001b[0m\n\u001b[1;32m      5\u001b[0m \u001b[0mprint\u001b[0m\u001b[0;34m(\u001b[0m\u001b[0mmodel_fit\u001b[0m\u001b[0;34m.\u001b[0m\u001b[0mforecast\u001b[0m\u001b[0;34m(\u001b[0m\u001b[0;34m)\u001b[0m\u001b[0;34m)\u001b[0m\u001b[0;34m\u001b[0m\u001b[0;34m\u001b[0m\u001b[0m\n\u001b[0;32m----> 6\u001b[0;31m \u001b[0my_pred\u001b[0m\u001b[0;34m[\u001b[0m\u001b[0mi\u001b[0m\u001b[0;34m]\u001b[0m \u001b[0;34m=\u001b[0m \u001b[0mmodel_fit\u001b[0m\u001b[0;34m.\u001b[0m\u001b[0mforecast\u001b[0m\u001b[0;34m(\u001b[0m\u001b[0;34m)\u001b[0m\u001b[0;34m[\u001b[0m\u001b[0;36m0\u001b[0m\u001b[0;34m]\u001b[0m\u001b[0;34m\u001b[0m\u001b[0;34m\u001b[0m\u001b[0m\n\u001b[0m",
            "\u001b[0;31mNameError\u001b[0m: name 'y_pred' is not defined"
          ]
        }
      ]
    },
    {
      "cell_type": "code",
      "source": [
        "X[40]"
      ],
      "metadata": {
        "colab": {
          "base_uri": "https://localhost:8080/"
        },
        "id": "fZCzTroAQzWc",
        "outputId": "eef95f6e-9b54-4c7a-c5f7-a41e8854e521"
      },
      "execution_count": 70,
      "outputs": [
        {
          "output_type": "execute_result",
          "data": {
            "text/plain": [
              "0.7077896496544145"
            ]
          },
          "metadata": {},
          "execution_count": 70
        }
      ]
    },
    {
      "cell_type": "code",
      "source": [
        "4, 0, 1: 0.12670\n",
        "5, 0, 1: 0.08793"
      ],
      "metadata": {
        "id": "V-_XM8tbusuH"
      },
      "execution_count": null,
      "outputs": []
    },
    {
      "cell_type": "code",
      "source": [
        "X = np.log(abs(1 + 2 * np.random.rand(100) + np.random.randn(100)))"
      ],
      "metadata": {
        "id": "wIH_kHGSPoMG"
      },
      "execution_count": 18,
      "outputs": []
    },
    {
      "cell_type": "code",
      "source": [
        "## Adf Test\n",
        "p = ndiffs(X, test='adf')  # 2\n",
        "\n",
        "# KPSS test\n",
        "q = ndiffs(X, test='kpss')  # 0\n",
        "\n",
        "# PP test:\n",
        "r = ndiffs(X, test='pp')  # 2\n",
        "print(p, q, r)"
      ],
      "metadata": {
        "colab": {
          "base_uri": "https://localhost:8080/"
        },
        "id": "wqzqQfPiLH-G",
        "outputId": "449d90d0-aff2-4f72-cd40-57ce77cc8bfc"
      },
      "execution_count": 19,
      "outputs": [
        {
          "output_type": "stream",
          "name": "stdout",
          "text": [
            "0 0 0\n"
          ]
        }
      ]
    },
    {
      "cell_type": "code",
      "source": [
        "X"
      ],
      "metadata": {
        "colab": {
          "base_uri": "https://localhost:8080/"
        },
        "id": "ZDR16YHTP6QL",
        "outputId": "efdef253-29e9-496d-f8a0-001536a511ad"
      },
      "execution_count": 16,
      "outputs": [
        {
          "output_type": "execute_result",
          "data": {
            "text/plain": [
              "array([ 1.27634356,  1.0418252 ,  2.3630003 ,  0.52977488,  3.24390484,\n",
              "        1.30141855, -0.06287721,  2.9392314 ,  2.11015041,  2.33265332,\n",
              "        2.55808472,  0.47058647,  1.8578164 ,  0.66527874,  1.67995364,\n",
              "       -0.18613473,  2.75102932,  2.3158076 ,  1.39461294,  1.98658066,\n",
              "        1.48805129,  1.95078067, -0.98661976,  2.52598897,  3.01224464,\n",
              "        2.92923557,  3.08085817,  1.65996193,  3.00094882,  3.77984321,\n",
              "        2.33658719,  2.01308967,  2.87785686,  1.39799577,  3.25911694,\n",
              "        3.10173236,  3.73779328,  2.55694665,  2.53887584,  0.46783639,\n",
              "        2.03840799,  0.90651426,  2.12468012,  1.40084598,  2.64796244,\n",
              "        1.25110089,  0.78221098,  1.86899393,  2.32616048,  1.45056117,\n",
              "        1.87004952,  2.34548157,  2.29533935,  0.21547568,  2.91561504,\n",
              "       -1.10273835,  1.22898187,  1.57656775,  0.41188089,  1.88228755,\n",
              "        0.06203251,  0.65520124,  0.60585063,  3.00612991,  1.28740355,\n",
              "        1.16970428,  3.33852484,  3.42050802,  1.50273041,  1.15666423,\n",
              "       -0.02297134,  2.13439223, -0.04090046,  4.13451237,  2.20990608,\n",
              "        2.52722721,  1.78460274,  2.99390861,  1.97516895,  0.24239895,\n",
              "        2.55802124,  3.26708176,  0.21803889, -1.03727369,  2.24207206,\n",
              "        1.21484269,  2.47714401,  1.20097651,  1.55028281,  2.52483467,\n",
              "        1.40804184,  2.41896067,  3.25178319,  1.27300139,  2.40639371,\n",
              "        2.0187027 ,  0.68355593,  4.12696148,  2.11563038,  0.78326996])"
            ]
          },
          "metadata": {},
          "execution_count": 16
        }
      ]
    },
    {
      "cell_type": "code",
      "source": [
        "y_pred"
      ],
      "metadata": {
        "id": "bpw0Y_ueWycm"
      },
      "execution_count": null,
      "outputs": []
    },
    {
      "cell_type": "code",
      "source": [
        "y_train"
      ],
      "metadata": {
        "id": "YbUd1PnyqsWL"
      },
      "execution_count": null,
      "outputs": []
    },
    {
      "cell_type": "code",
      "source": [
        ""
      ],
      "metadata": {
        "id": "OLGCaZe2quHa"
      },
      "execution_count": null,
      "outputs": []
    }
  ]
}